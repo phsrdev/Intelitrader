{
  "nbformat": 4,
  "nbformat_minor": 0,
  "metadata": {
    "colab": {
      "provenance": []
    },
    "kernelspec": {
      "name": "python3",
      "display_name": "Python 3"
    },
    "language_info": {
      "name": "python"
    }
  },
  "cells": [
    {
      "cell_type": "code",
      "execution_count": 15,
      "metadata": {
        "colab": {
          "base_uri": "https://localhost:8080/"
        },
        "id": "_M7ETPxM4jAj",
        "outputId": "bebc9445-efed-45c4-ac52-937f1c6a8bb5"
      },
      "outputs": [
        {
          "output_type": "stream",
          "name": "stdout",
          "text": [
            "Mensagem descriptografada: YOU ARE AWESOME\u0000\n"
          ]
        }
      ],
      "source": [
        "# Função para trocar o valor dos últimos dois bits de cada byte\n",
        "def trocar_valor_ultimos_dois_bits(byte):\n",
        "    mapa_bits = {'00': '11', '01': '10', '10': '01', '11': '00'}\n",
        "    ultimos_dois_bits = byte[-2:]\n",
        "    novos_ultimos_dois_bits = mapa_bits[ultimos_dois_bits]\n",
        "    return byte[:-2] + novos_ultimos_dois_bits\n",
        "\n",
        "# Função para trocar os primeiros 4 bits com os últimos 4 bits\n",
        "def trocar_4bits(byte):\n",
        "    return byte[4:] + byte[:4]\n",
        "\n",
        "# Mensagem criptografada como lista de bytes\n",
        "mensagem_criptografada = [\n",
        "    \"10010110\", \"11110111\", \"01010110\", \"00000001\",\n",
        "    \"00010111\", \"00100110\", \"01010111\", \"00000001\",\n",
        "    \"00010111\", \"01110110\", \"01010111\", \"00110110\",\n",
        "    \"11110111\", \"11010111\", \"01010111\", \"00000011\"\n",
        "]\n",
        "\n",
        "# Descriptografar a mensagem\n",
        "bits_descriptografados = \"\"\n",
        "for byte in mensagem_criptografada:\n",
        "    byte_corrigido = trocar_valor_ultimos_dois_bits(byte)\n",
        "    byte_trocado = trocar_4bits(byte_corrigido)\n",
        "    bits_descriptografados += byte_trocado\n",
        "\n",
        "# Converter bits para caracteres ASCII, garantindo que sejam apenas 128 bits (16 bytes)\n",
        "mensagem_ascii = \"\"\n",
        "for i in range(0, 128, 8):\n",
        "    byte = bits_descriptografados[i:i+8]\n",
        "    caractere_ascii = chr(int(byte, 2))\n",
        "    mensagem_ascii += caractere_ascii\n",
        "\n",
        "print(\"Mensagem descriptografada:\", mensagem_ascii)\n",
        "\n"
      ]
    },
    {
      "cell_type": "code",
      "source": [],
      "metadata": {
        "id": "ITu0fHEw6q9l"
      },
      "execution_count": null,
      "outputs": []
    }
  ]
}